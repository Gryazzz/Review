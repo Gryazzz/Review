{
 "cells": [
  {
   "cell_type": "code",
   "execution_count": 36,
   "metadata": {},
   "outputs": [],
   "source": [
    "from bs4 import BeautifulSoup\n",
    "import requests\n",
    "import pymongo\n",
    "import requests\n",
    "from splinter import Browser\n",
    "import time\n",
    "# from splinter.exceptions import ElementDoesNotExist"
   ]
  },
  {
   "cell_type": "code",
   "execution_count": 37,
   "metadata": {},
   "outputs": [
    {
     "name": "stdout",
     "output_type": "stream",
     "text": [
      "/usr/local/bin/chromedriver\n"
     ]
    }
   ],
   "source": [
    "!which chromedriver"
   ]
  },
  {
   "cell_type": "code",
   "execution_count": 38,
   "metadata": {},
   "outputs": [],
   "source": [
    "executable_path = {'executable_path': '/usr/local/bin/chromedriver'}\n",
    "browser = Browser('chrome', **executable_path, headless=False)"
   ]
  },
  {
   "cell_type": "code",
   "execution_count": 39,
   "metadata": {},
   "outputs": [],
   "source": [
    "conn = 'mongodb://localhost:27017'\n",
    "client = pymongo.MongoClient(conn)"
   ]
  },
  {
   "cell_type": "code",
   "execution_count": 40,
   "metadata": {},
   "outputs": [],
   "source": [
    "db = client.testdb\n",
    "collection = db.reviews"
   ]
  },
  {
   "cell_type": "code",
   "execution_count": 41,
   "metadata": {},
   "outputs": [],
   "source": [
    "url = 'https://www.tripadvisor.com/Restaurant_Review-g28970-d622172-Reviews-Blue_Duck_Tavern-Washington_DC_District_of_Columbia.html'\n",
    "browser.visit(url)"
   ]
  },
  {
   "cell_type": "code",
   "execution_count": null,
   "metadata": {},
   "outputs": [],
   "source": [
    "# session = requests.Session()\n",
    "# session.headers.update({'User-Agent': 'Custom user agent'})\n",
    "# html = session.get(url)"
   ]
  },
  {
   "cell_type": "code",
   "execution_count": 42,
   "metadata": {},
   "outputs": [],
   "source": [
    "html = browser.html\n",
    "soup = BeautifulSoup(html, 'html.parser')\n",
    "pages = soup.find('div', class_='pageNumbers')\n",
    "number_of_pages = int(pages.find_all('a', class_='pageNum')[-1].text)"
   ]
  },
  {
   "cell_type": "code",
   "execution_count": 33,
   "metadata": {},
   "outputs": [
    {
     "data": {
      "text/plain": [
       "190"
      ]
     },
     "execution_count": 33,
     "metadata": {},
     "output_type": "execute_result"
    }
   ],
   "source": [
    "number_of_pages"
   ]
  },
  {
   "cell_type": "markdown",
   "metadata": {},
   "source": [
    "**Trying to expand the reviews**"
   ]
  },
  {
   "cell_type": "code",
   "execution_count": 43,
   "metadata": {},
   "outputs": [
    {
     "name": "stdout",
     "output_type": "stream",
     "text": [
      "length of collapse is: 6\n",
      "clicked\n",
      "service I have ever experienced in a high-end restaurant. The cuisine is very good too (top marks for the cold corn soup and beef rib, and as for the bone marrow and cherry cobbler... Wow !) but Tibor is the one who really made our (anniversary) evening special. Thank you, thank you, thank you. Our “beautiful friendship” with the Blue Duck Tavern continues stronger than ever.Show less\n",
      "page: 1\n",
      "--------------------\n",
      "We had reservation for lunch ... the food was wonderful ... we did not invent much at the request ... grilled bone marrow (fantastic!) ... steak tartar ... duck and steak ... all very American and tasty. .. great wine list ... price ranged within reasonable (250 US $)Show less\n",
      "page: 1\n",
      "--------------------\n",
      "Blue Duck is simply delicious. This i is not my first meal this visit but my family came back for brunch and dinner again because the food is always reliable and delicious.\n",
      "page: 1\n",
      "--------------------\n",
      "Excellent, center of the bat American Cusine. Try the Softshell Crab Appetizer or have two for a Main Course, whole fish superb, roasted chicken terrific. Flank steak good but not great. Great wine list from first tier to mid-range...a bit pricey at the upper end.Wait staff attentive and know their way around a dining room. Our daughter had the brownie sundae for dessert...enough for for to share.Show less\n",
      "page: 1\n",
      "--------------------\n",
      "I found the restaurant being close to my hotel. Walked in without reservation, asked to sit outside. Both would have been perfectly possible. Good waiter, professional, understands and adapts to his customers. Great to be able to sit outside for once. In many cases this is not possible. But being a European, yes, nice wether, of course outside. Of course you’re in n the middle of the city, the view basically is the street, nothing spectacular. Surprised to see the tables do not have a table cloth or any type of table cover. This makes my plates were moving on the table. Not very convenient and table cloths give an extra touch!The cocktail subpoena was promising on the menu. With Japanese whisky and chili... mmm being a whisky girl. However, very flat, almost like an orange limonade, no, don’t order it.Starter: bone marrow, 4 nice pieces, big portion. 2 would have been fine for me but okay this is the country of the big portions, no problem with that. Good spicing, still natural in taste.Main: halibut a la plancha. I added a side of horseradish potato puree. The fish was a little bit too dry but the dish was really nice. The vegetables going along, a bit of a spice sauce. Very nice presentation, clean, sober, less is more thank you. Yes, enjoyed it a lot. Combined with a glass of white wine, a frog’s leap, Chardonnay, Napa Valley. Beautiful and very good!Dessert: not my favorite dish but a good waiter. He advised me to have a look. Mmm, morello cherries with vanilla ice cream. Okay, let’s try it. Big dessert, perfect to share. I like cherries but have no experience with Morello cherries so I don’t know how to judge besides the fact that I liked it . The cream lies on top of a big biscuit. Not a big biscuit fan, the ice cream with the cherry sauce would already made a great dessert for me. I did have a nice, really nice glass of Hungarian Tokaj dessert wine. Not cheap but worth trying. Nothing American to drink on the dessert menu... sad for a restaurant that claims to be local, home made... is there really nobody in US who makes a good desert wine? Conclusion: great place, European allure, professional staff. Michelin star worthy? Honestly, in Belgium I believe a no. Very good brasserie kitchen certainly but not creative, daring, innovative enough to have a star. In US? The longer I live here and experience food and dining, I would say yes. But to keep it, not sure. For that I don’t have enough experience with US Michelin star restaurants. I was not blown away but I had a very good and decent meal and would recommend this to foreign friends coming to visit DC. Show less\n",
      "page: 1\n",
      "--------------------\n",
      "The food in creative but not so unusual to be unrecognizable. The Blue Duck Tavern manages to be stylish without too much pretense.\n",
      "page: 1\n",
      "--------------------\n",
      "I honestly expected so much more from this place. The menu is great, the atmosphere on the inside is meh, but the outdoor space is awesome, the staff is nice, although not always paying enough attention (i.e. I asked for my avo toast without tomatoes and it still ended up having a LOT of tomatoes), and the food is good but not as good as it horribly overpriced. Not a bad brunch, but I had much better for 1/5 of the price.Show less\n",
      "no location\n",
      "page: 1\n",
      "--------------------\n",
      "Overall, a very enjoyable dining experience. Derive was great. The food and drinks were amazing. We had a large reservation so the restaurant was not crowded. All made for an enjoyable time with family.\n",
      "page: 1\n",
      "--------------------\n",
      "Not the most atmospheric of restaurants, but the service was outstanding. The menu is really interesting, focused on farm produce. Coming from Europe though, just be conscious of the “American sized portions”; we had starters, mains and sides and were more than full. If we had starters each and shared a main between two, still not sure we would have managed desert! But a great place nonethelessShow less\n",
      "page: 1\n",
      "--------------------\n",
      "Top of the line service, food, and wine. Did not have one complaint about my entire experience. Attentive staff, perfectly cooked food, notable wine list. 5 star dining experience.\n",
      "page: 1\n",
      "--------------------\n"
     ]
    }
   ],
   "source": [
    "ids = []\n",
    "for p in range(1, number_of_pages):\n",
    "    \n",
    "    # open all closed links at first\n",
    "    collapse = browser.find_by_css('span[class=\"taLnk ulBlueLinks\"]')\n",
    "\n",
    "    print(f'length of collapse is: {len(collapse)}')\n",
    "    collapse.click()\n",
    "    print('clicked')\n",
    "    time.sleep(2)\n",
    "    \n",
    "    html = browser.html\n",
    "    soup = BeautifulSoup(html, 'html.parser')\n",
    "    revs = soup.find_all('div', class_='review-container')\n",
    "    \n",
    "    \n",
    "\n",
    "    for r in revs:\n",
    "        \n",
    "        id = r.find('div', class_='reviewSelector')['data-reviewid']\n",
    "        if id in ids:\n",
    "            break\n",
    "        \n",
    "        \n",
    "        title = r.find('span', class_='noQuotes').text\n",
    "        date = r.find('span', class_='ratingDate relativeDate')['title']\n",
    "        name = r.find('div', class_='username mo').text\n",
    "        rating = r.find('div', class_='rating reviewItemInline').find('span')['class'][1][7:8]\n",
    "        text = r.find('div', class_='entry').text\n",
    "        print(text)\n",
    "        \n",
    "        try:\n",
    "            loc = r.find('span', class_='expand_inline userLocation')\n",
    "            if loc.text:\n",
    "                location = loc.text\n",
    "        except AttributeError:\n",
    "            print('no location')\n",
    "\n",
    "        review = {\n",
    "            'id': id,\n",
    "            'date': date,\n",
    "            'title': title,\n",
    "            'rating': rating,\n",
    "            'text': text,\n",
    "            'username': name\n",
    "        }\n",
    "    \n",
    "        if (location):\n",
    "            review['userlocation']= location\n",
    "        else:\n",
    "            review['userlocation']='no_location'\n",
    "    \n",
    "    \n",
    "        print(f'page: {p}')\n",
    "        #print(review)\n",
    "        print('--------------------')\n",
    "        \n",
    "        ids.append(id)\n",
    "        \n",
    "        collection.insert_one(review)\n",
    "    \n",
    "        review = {}\n",
    "        title = ''\n",
    "        date = ''\n",
    "        name = ''\n",
    "        rating = ''\n",
    "        text = ''\n",
    "        location = ''\n",
    "    \n",
    "    browser.click_link_by_text('Next') \n",
    "    break\n",
    "    time.sleep(5)"
   ]
  },
  {
   "cell_type": "code",
   "execution_count": 45,
   "metadata": {},
   "outputs": [
    {
     "data": {
      "text/plain": [
       "['597875962',\n",
       " '595614008',\n",
       " '595145212',\n",
       " '595064162',\n",
       " '593401696',\n",
       " '592822699',\n",
       " '591923061',\n",
       " '591920694',\n",
       " '591919983',\n",
       " '591782441']"
      ]
     },
     "execution_count": 45,
     "metadata": {},
     "output_type": "execute_result"
    }
   ],
   "source": [
    "ids"
   ]
  },
  {
   "cell_type": "markdown",
   "metadata": {},
   "source": [
    "**OLD code below**"
   ]
  },
  {
   "cell_type": "code",
   "execution_count": null,
   "metadata": {},
   "outputs": [],
   "source": [
    "ids = []\n",
    "for p in range(1,51):\n",
    "    \n",
    "    html = browser.html\n",
    "    soup = BeautifulSoup(html, 'html.parser')\n",
    "    revs = soup.find_all('div', class_='review-container')\n",
    "    \n",
    "    for r in revs:\n",
    "        \n",
    "        id = r.find('div', class_='reviewSelector')['data-reviewid']\n",
    "        if id in ids:\n",
    "            break\n",
    "        \n",
    "        title = r.find('span', class_='noQuotes').text\n",
    "        date = r.find('span', class_='ratingDate relativeDate')['title']\n",
    "        name = r.find('div', class_='username mo').text\n",
    "        rating = r.find('div', class_='rating reviewItemInline').find('span')['class'][1][7:8]\n",
    "        text = r.find('div', class_='entry').text\n",
    "        \n",
    "        \n",
    "        try:\n",
    "            loc = r.find('span', class_='expand_inline userLocation')\n",
    "            if loc.text:\n",
    "                location = loc.text\n",
    "        except AttributeError:\n",
    "            print('no location')\n",
    "\n",
    "        review = {\n",
    "            'id': id,\n",
    "            'date': date,\n",
    "            'title': title,\n",
    "            'rating': rating,\n",
    "            'text': text,\n",
    "            'username': name\n",
    "        }\n",
    "    \n",
    "        if (location):\n",
    "            review['userlocation']= location\n",
    "        else:\n",
    "            review['userlocation']='no_location'\n",
    "    \n",
    "    \n",
    "        print(f'page: {p}')\n",
    "        print(review)\n",
    "        print('--------------------')\n",
    "        \n",
    "        ids.append(id)\n",
    "        \n",
    "        collection.insert_one(review)\n",
    "    \n",
    "        review = {}\n",
    "        title = ''\n",
    "        date = ''\n",
    "        name = ''\n",
    "        rating = ''\n",
    "        text = ''\n",
    "        location = ''\n",
    "    \n",
    "    browser.click_link_by_text('Next')   "
   ]
  },
  {
   "cell_type": "code",
   "execution_count": null,
   "metadata": {},
   "outputs": [],
   "source": [
    "soup = BeautifulSoup(html.text, 'html.parser')"
   ]
  },
  {
   "cell_type": "code",
   "execution_count": 53,
   "metadata": {},
   "outputs": [],
   "source": [
    "revs = soup.find_all('div', class_='review-container')"
   ]
  },
  {
   "cell_type": "code",
   "execution_count": null,
   "metadata": {},
   "outputs": [],
   "source": [
    "for r in revs:\n",
    "    \n",
    "    id = r.find('div', class_='reviewSelector')['data-reviewid']\n",
    "    title = r.find('span', class_='noQuotes').text\n",
    "    date = r.find('span', class_='ratingDate relativeDate')['title']\n",
    "    name = r.find('div', class_='username mo').text\n",
    "    rating = r.find('div', class_='rating reviewItemInline').find('span')['class'][1][7:8]\n",
    "    text = r.find('div', class_='entry').text\n",
    "    \n",
    "    try:\n",
    "        loc = r.find('span', class_='expand_inline userLocation')\n",
    "        if loc.text:\n",
    "            location = loc.text\n",
    "    except AttributeError:\n",
    "        print('no location')\n",
    "    \n",
    "    review = {\n",
    "        'id': id,\n",
    "        'date': date,\n",
    "        'title': title,\n",
    "        'rating': rating,\n",
    "        'text': text,\n",
    "        'username': name\n",
    "    }\n",
    "    \n",
    "    if (location):\n",
    "        review['userlocation']= location\n",
    "    else:\n",
    "        review['userlocation']='no_location'\n",
    "    \n",
    "    \n",
    "    \n",
    "    print(review)\n",
    "    print('--------------------')\n",
    "    \n",
    "#     collection.insert_one(review)\n",
    "    \n",
    "    review = {}\n",
    "    title = ''\n",
    "    date = ''\n",
    "    name = ''\n",
    "    rating = ''\n",
    "    text = ''\n",
    "    location = ''"
   ]
  },
  {
   "cell_type": "code",
   "execution_count": 68,
   "metadata": {},
   "outputs": [
    {
     "data": {
      "text/html": [
       "<div>\n",
       "<style scoped>\n",
       "    .dataframe tbody tr th:only-of-type {\n",
       "        vertical-align: middle;\n",
       "    }\n",
       "\n",
       "    .dataframe tbody tr th {\n",
       "        vertical-align: top;\n",
       "    }\n",
       "\n",
       "    .dataframe thead th {\n",
       "        text-align: right;\n",
       "    }\n",
       "</style>\n",
       "<table border=\"1\" class=\"dataframe\">\n",
       "  <thead>\n",
       "    <tr style=\"text-align: right;\">\n",
       "      <th></th>\n",
       "      <th>_id</th>\n",
       "      <th>date</th>\n",
       "      <th>id</th>\n",
       "      <th>rating</th>\n",
       "      <th>text</th>\n",
       "      <th>title</th>\n",
       "      <th>userlocation</th>\n",
       "      <th>username</th>\n",
       "    </tr>\n",
       "  </thead>\n",
       "  <tbody>\n",
       "    <tr>\n",
       "      <th>0</th>\n",
       "      <td>5afb9348c226fec7b54148b3</td>\n",
       "      <td>2018-05-13</td>\n",
       "      <td>579961251</td>\n",
       "      <td>5</td>\n",
       "      <td>We ate here for Mother's day and received Mich...</td>\n",
       "      <td>Fantastic Mother's Day Experience</td>\n",
       "      <td>London, United Kingdom</td>\n",
       "      <td>ewattsie</td>\n",
       "    </tr>\n",
       "    <tr>\n",
       "      <th>1</th>\n",
       "      <td>5afb9348c226fec7b54148b4</td>\n",
       "      <td>2018-05-10</td>\n",
       "      <td>579287644</td>\n",
       "      <td>5</td>\n",
       "      <td>We returned for dinner at the Blue Duck Tavern...</td>\n",
       "      <td>Great Meal, Worthy of a Michelin Star</td>\n",
       "      <td>Fairfax, Virginia</td>\n",
       "      <td>cluelessSingapore</td>\n",
       "    </tr>\n",
       "    <tr>\n",
       "      <th>2</th>\n",
       "      <td>5afb9348c226fec7b54148b5</td>\n",
       "      <td>2018-05-07</td>\n",
       "      <td>578678261</td>\n",
       "      <td>3</td>\n",
       "      <td>I wasn't impressed by the menu. I actually wen...</td>\n",
       "      <td>Not to impressed</td>\n",
       "      <td>no_location</td>\n",
       "      <td>Janet R</td>\n",
       "    </tr>\n",
       "    <tr>\n",
       "      <th>3</th>\n",
       "      <td>5afb9348c226fec7b54148b6</td>\n",
       "      <td>2018-05-05</td>\n",
       "      <td>578152248</td>\n",
       "      <td>5</td>\n",
       "      <td>We reserved the Chefs Table for a partnership ...</td>\n",
       "      <td>Outstanding service, meal and experience</td>\n",
       "      <td>no_location</td>\n",
       "      <td>Ron S</td>\n",
       "    </tr>\n",
       "    <tr>\n",
       "      <th>4</th>\n",
       "      <td>5afb9348c226fec7b54148b7</td>\n",
       "      <td>2018-05-04</td>\n",
       "      <td>577970865</td>\n",
       "      <td>4</td>\n",
       "      <td>We tried the bone marrow (excellent), organic ...</td>\n",
       "      <td>Small portions but good food</td>\n",
       "      <td>no_location</td>\n",
       "      <td>JohnfmBrooklyn</td>\n",
       "    </tr>\n",
       "  </tbody>\n",
       "</table>\n",
       "</div>"
      ],
      "text/plain": [
       "                        _id       date         id rating  \\\n",
       "0  5afb9348c226fec7b54148b3 2018-05-13  579961251      5   \n",
       "1  5afb9348c226fec7b54148b4 2018-05-10  579287644      5   \n",
       "2  5afb9348c226fec7b54148b5 2018-05-07  578678261      3   \n",
       "3  5afb9348c226fec7b54148b6 2018-05-05  578152248      5   \n",
       "4  5afb9348c226fec7b54148b7 2018-05-04  577970865      4   \n",
       "\n",
       "                                                text  \\\n",
       "0  We ate here for Mother's day and received Mich...   \n",
       "1  We returned for dinner at the Blue Duck Tavern...   \n",
       "2  I wasn't impressed by the menu. I actually wen...   \n",
       "3  We reserved the Chefs Table for a partnership ...   \n",
       "4  We tried the bone marrow (excellent), organic ...   \n",
       "\n",
       "                                       title            userlocation  \\\n",
       "0          Fantastic Mother's Day Experience  London, United Kingdom   \n",
       "1      Great Meal, Worthy of a Michelin Star       Fairfax, Virginia   \n",
       "2                           Not to impressed             no_location   \n",
       "3  Outstanding service, meal and experience              no_location   \n",
       "4               Small portions but good food             no_location   \n",
       "\n",
       "            username  \n",
       "0           ewattsie  \n",
       "1  cluelessSingapore  \n",
       "2            Janet R  \n",
       "3              Ron S  \n",
       "4     JohnfmBrooklyn  "
      ]
     },
     "execution_count": 68,
     "metadata": {},
     "output_type": "execute_result"
    }
   ],
   "source": [
    "import pandas as pd\n",
    "data = db.reviews.find()\n",
    "df = pd.DataFrame(list(collection.find()))\n",
    "df['date'] = pd.to_datetime(df['date'])\n",
    "df.head()"
   ]
  },
  {
   "cell_type": "code",
   "execution_count": 69,
   "metadata": {},
   "outputs": [],
   "source": [
    "df = df.drop('_id', 1)"
   ]
  },
  {
   "cell_type": "code",
   "execution_count": 52,
   "metadata": {},
   "outputs": [],
   "source": [
    "df.to_excel('tab.xlsx')"
   ]
  },
  {
   "cell_type": "code",
   "execution_count": 64,
   "metadata": {},
   "outputs": [
    {
     "data": {
      "text/plain": [
       "Timestamp('2016-07-02 00:00:00')"
      ]
     },
     "execution_count": 64,
     "metadata": {},
     "output_type": "execute_result"
    }
   ],
   "source": [
    "pd.to_datetime(revs[5].find('span', class_='ratingDate relativeDate')['title'])"
   ]
  },
  {
   "cell_type": "code",
   "execution_count": 76,
   "metadata": {},
   "outputs": [
    {
     "data": {
      "text/plain": [
       "date            datetime64[ns]\n",
       "id                      object\n",
       "rating                   int64\n",
       "text                    object\n",
       "title                   object\n",
       "userlocation            object\n",
       "username                object\n",
       "dtype: object"
      ]
     },
     "execution_count": 76,
     "metadata": {},
     "output_type": "execute_result"
    }
   ],
   "source": [
    "df.dtypes"
   ]
  },
  {
   "cell_type": "code",
   "execution_count": 75,
   "metadata": {},
   "outputs": [],
   "source": [
    "df['rating'] = pd.to_numeric(df['rating'])"
   ]
  },
  {
   "cell_type": "code",
   "execution_count": 81,
   "metadata": {},
   "outputs": [
    {
     "data": {
      "text/plain": [
       "<matplotlib.axes._subplots.AxesSubplot at 0x10ea06b38>"
      ]
     },
     "execution_count": 81,
     "metadata": {},
     "output_type": "execute_result"
    },
    {
     "data": {
      "image/png": "[encoded data removed]",
      "text/plain": [
       "<matplotlib.figure.Figure at 0x10ebebeb8>"
      ]
     },
     "metadata": {},
     "output_type": "display_data"
    }
   ],
   "source": [
    "df.plot(x='date', y='rating', figsize=(10,7))"
   ]
  },
  {
   "cell_type": "code",
   "execution_count": 82,
   "metadata": {},
   "outputs": [
    {
     "data": {
      "text/plain": [
       "<pandas.core.groupby.DataFrameGroupBy object at 0x11ba2d5c0>"
      ]
     },
     "execution_count": 82,
     "metadata": {},
     "output_type": "execute_result"
    }
   ],
   "source": [
    "df.groupby(['rating', 'date'])"
   ]
  },
  {
   "cell_type": "code",
   "execution_count": 88,
   "metadata": {},
   "outputs": [],
   "source": [
    "df1 = df.groupby(pd.Grouper(key='date', freq='1M')).mean()"
   ]
  },
  {
   "cell_type": "code",
   "execution_count": 96,
   "metadata": {},
   "outputs": [
    {
     "data": {
      "text/plain": [
       "<matplotlib.axes._subplots.AxesSubplot at 0x11e2144a8>"
      ]
     },
     "execution_count": 96,
     "metadata": {},
     "output_type": "execute_result"
    },
    {
     "data": {
      "image/png": "[encoded data removed]",
      "text/plain": [
       "<matplotlib.figure.Figure at 0x11e2c7240>"
      ]
     },
     "metadata": {},
     "output_type": "display_data"
    }
   ],
   "source": [
    "df1.plot(grid=True, figsize=(10,5))"
   ]
  },
  {
   "cell_type": "code",
   "execution_count": null,
   "metadata": {},
   "outputs": [],
   "source": []
  }
 ],
 "metadata": {
  "kernelspec": {
   "display_name": "Python 3",
   "language": "python",
   "name": "python3"
  },
  "language_info": {
   "codemirror_mode": {
    "name": "ipython",
    "version": 3
   },
   "file_extension": ".py",
   "mimetype": "text/x-python",
   "name": "python",
   "nbconvert_exporter": "python",
   "pygments_lexer": "ipython3",
   "version": "3.6.5"
  }
 },
 "nbformat": 4,
 "nbformat_minor": 2
}
