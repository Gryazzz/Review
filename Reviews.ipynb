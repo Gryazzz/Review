{
 "cells": [
  {
   "cell_type": "code",
   "execution_count": 3,
   "metadata": {},
   "outputs": [],
   "source": [
    "from bs4 import BeautifulSoup\n",
    "import requests\n",
    "import pymongo\n",
    "import requests\n",
    "from splinter import Browser\n",
    "from selenium import webdriver\n",
    "import pandas as pd\n",
    "import time\n"
   ]
  },
  {
   "cell_type": "code",
   "execution_count": 2,
   "metadata": {},
   "outputs": [
    {
     "name": "stdout",
     "output_type": "stream",
     "text": [
      "/usr/local/bin/chromedriver\n"
     ]
    }
   ],
   "source": [
    "!which chromedriver"
   ]
  },
  {
   "cell_type": "code",
   "execution_count": 3,
   "metadata": {},
   "outputs": [],
   "source": [
    "executable_path = {'executable_path': '/usr/local/bin/chromedriver'}\n",
    "browser = Browser('chrome', **executable_path, headless=False)"
   ]
  },
  {
   "cell_type": "code",
   "execution_count": 4,
   "metadata": {},
   "outputs": [],
   "source": [
    "conn = 'mongodb://localhost:27017'\n",
    "client = pymongo.MongoClient(conn)"
   ]
  },
  {
   "cell_type": "code",
   "execution_count": 5,
   "metadata": {},
   "outputs": [],
   "source": [
    "db = client.testdb\n",
    "tripadvisor = db.tripadvisor\n",
    "yelp = db.yelp"
   ]
  },
  {
   "cell_type": "code",
   "execution_count": 41,
   "metadata": {},
   "outputs": [],
   "source": [
    "url = 'https://www.tripadvisor.com/Restaurant_Review-g28970-d622172-Reviews-Blue_Duck_Tavern-Washington_DC_District_of_Columbia.html'\n",
    "browser.visit(url)"
   ]
  },
  {
   "cell_type": "code",
   "execution_count": null,
   "metadata": {},
   "outputs": [],
   "source": [
    "# session = requests.Session()\n",
    "# session.headers.update({'User-Agent': 'Custom user agent'})\n",
    "# html = session.get(url)"
   ]
  },
  {
   "cell_type": "code",
   "execution_count": 42,
   "metadata": {},
   "outputs": [],
   "source": [
    "html = browser.html\n",
    "soup = BeautifulSoup(html, 'html.parser')\n",
    "pages = soup.find('div', class_='pageNumbers')\n",
    "number_of_pages = int(pages.find_all('a', class_='pageNum')[-1].text)"
   ]
  },
  {
   "cell_type": "code",
   "execution_count": 33,
   "metadata": {},
   "outputs": [
    {
     "data": {
      "text/plain": [
       "190"
      ]
     },
     "execution_count": 33,
     "metadata": {},
     "output_type": "execute_result"
    }
   ],
   "source": [
    "number_of_pages"
   ]
  },
  {
   "cell_type": "markdown",
   "metadata": {},
   "source": [
    "**Tripadvisor**"
   ]
  },
  {
   "cell_type": "code",
   "execution_count": 43,
   "metadata": {},
   "outputs": [
    {
     "name": "stdout",
     "output_type": "stream",
     "text": [
      "length of collapse is: 6\n",
      "clicked\n",
      "service I have ever experienced in a high-end restaurant. The cuisine is very good too (top marks for the cold corn soup and beef rib, and as for the bone marrow and cherry cobbler... Wow !) but Tibor is the one who really made our (anniversary) evening special. Thank you, thank you, thank you. Our “beautiful friendship” with the Blue Duck Tavern continues stronger than ever.Show less\n",
      "page: 1\n",
      "--------------------\n",
      "We had reservation for lunch ... the food was wonderful ... we did not invent much at the request ... grilled bone marrow (fantastic!) ... steak tartar ... duck and steak ... all very American and tasty. .. great wine list ... price ranged within reasonable (250 US $)Show less\n",
      "page: 1\n",
      "--------------------\n",
      "Blue Duck is simply delicious. This i is not my first meal this visit but my family came back for brunch and dinner again because the food is always reliable and delicious.\n",
      "page: 1\n",
      "--------------------\n",
      "Excellent, center of the bat American Cusine. Try the Softshell Crab Appetizer or have two for a Main Course, whole fish superb, roasted chicken terrific. Flank steak good but not great. Great wine list from first tier to mid-range...a bit pricey at the upper end.Wait staff attentive and know their way around a dining room. Our daughter had the brownie sundae for dessert...enough for for to share.Show less\n",
      "page: 1\n",
      "--------------------\n",
      "I found the restaurant being close to my hotel. Walked in without reservation, asked to sit outside. Both would have been perfectly possible. Good waiter, professional, understands and adapts to his customers. Great to be able to sit outside for once. In many cases this is not possible. But being a European, yes, nice wether, of course outside. Of course you’re in n the middle of the city, the view basically is the street, nothing spectacular. Surprised to see the tables do not have a table cloth or any type of table cover. This makes my plates were moving on the table. Not very convenient and table cloths give an extra touch!The cocktail subpoena was promising on the menu. With Japanese whisky and chili... mmm being a whisky girl. However, very flat, almost like an orange limonade, no, don’t order it.Starter: bone marrow, 4 nice pieces, big portion. 2 would have been fine for me but okay this is the country of the big portions, no problem with that. Good spicing, still natural in taste.Main: halibut a la plancha. I added a side of horseradish potato puree. The fish was a little bit too dry but the dish was really nice. The vegetables going along, a bit of a spice sauce. Very nice presentation, clean, sober, less is more thank you. Yes, enjoyed it a lot. Combined with a glass of white wine, a frog’s leap, Chardonnay, Napa Valley. Beautiful and very good!Dessert: not my favorite dish but a good waiter. He advised me to have a look. Mmm, morello cherries with vanilla ice cream. Okay, let’s try it. Big dessert, perfect to share. I like cherries but have no experience with Morello cherries so I don’t know how to judge besides the fact that I liked it . The cream lies on top of a big biscuit. Not a big biscuit fan, the ice cream with the cherry sauce would already made a great dessert for me. I did have a nice, really nice glass of Hungarian Tokaj dessert wine. Not cheap but worth trying. Nothing American to drink on the dessert menu... sad for a restaurant that claims to be local, home made... is there really nobody in US who makes a good desert wine? Conclusion: great place, European allure, professional staff. Michelin star worthy? Honestly, in Belgium I believe a no. Very good brasserie kitchen certainly but not creative, daring, innovative enough to have a star. In US? The longer I live here and experience food and dining, I would say yes. But to keep it, not sure. For that I don’t have enough experience with US Michelin star restaurants. I was not blown away but I had a very good and decent meal and would recommend this to foreign friends coming to visit DC. Show less\n",
      "page: 1\n",
      "--------------------\n",
      "The food in creative but not so unusual to be unrecognizable. The Blue Duck Tavern manages to be stylish without too much pretense.\n",
      "page: 1\n",
      "--------------------\n",
      "I honestly expected so much more from this place. The menu is great, the atmosphere on the inside is meh, but the outdoor space is awesome, the staff is nice, although not always paying enough attention (i.e. I asked for my avo toast without tomatoes and it still ended up having a LOT of tomatoes), and the food is good but not as good as it horribly overpriced. Not a bad brunch, but I had much better for 1/5 of the price.Show less\n",
      "no location\n",
      "page: 1\n",
      "--------------------\n",
      "Overall, a very enjoyable dining experience. Derive was great. The food and drinks were amazing. We had a large reservation so the restaurant was not crowded. All made for an enjoyable time with family.\n",
      "page: 1\n",
      "--------------------\n",
      "Not the most atmospheric of restaurants, but the service was outstanding. The menu is really interesting, focused on farm produce. Coming from Europe though, just be conscious of the “American sized portions”; we had starters, mains and sides and were more than full. If we had starters each and shared a main between two, still not sure we would have managed desert! But a great place nonethelessShow less\n",
      "page: 1\n",
      "--------------------\n",
      "Top of the line service, food, and wine. Did not have one complaint about my entire experience. Attentive staff, perfectly cooked food, notable wine list. 5 star dining experience.\n",
      "page: 1\n",
      "--------------------\n"
     ]
    }
   ],
   "source": [
    "ids = []\n",
    "for p in range(1, number_of_pages):\n",
    "    \n",
    "    # open all closed links at first\n",
    "    collapse = browser.find_by_css('span[class=\"taLnk ulBlueLinks\"]')\n",
    "\n",
    "    print(f'length of collapse is: {len(collapse)}')\n",
    "    collapse.click()\n",
    "    print('clicked')\n",
    "    time.sleep(2)\n",
    "    \n",
    "    html = browser.html\n",
    "    soup = BeautifulSoup(html, 'html.parser')\n",
    "    revs = soup.find_all('div', class_='review-container')\n",
    "    \n",
    "    \n",
    "\n",
    "    for r in revs:\n",
    "        \n",
    "        id = r.find('div', class_='reviewSelector')['data-reviewid']\n",
    "        if id in ids:\n",
    "            break\n",
    "        \n",
    "        \n",
    "        title = r.find('span', class_='noQuotes').text\n",
    "        date = r.find('span', class_='ratingDate relativeDate')['title']\n",
    "        date = pd.to_datetime(date) #check if it works\n",
    "        name = r.find('div', class_='username mo').text\n",
    "        rating = int(r.find('div', class_='rating reviewItemInline').find('span')['class'][1][7:8])\n",
    "        text = r.find('div', class_='entry').text\n",
    "#         print(text)\n",
    "        \n",
    "        try:\n",
    "            loc = r.find('span', class_='expand_inline userLocation')\n",
    "            if loc.text:\n",
    "                location = loc.text\n",
    "        except AttributeError:\n",
    "            print('no location')\n",
    "\n",
    "        review = {\n",
    "            'id': id,\n",
    "            'date': date,\n",
    "            'title': title,\n",
    "            'rating': rating,\n",
    "            'text': text,\n",
    "            'username': name\n",
    "        }\n",
    "    \n",
    "        if (location):\n",
    "            review['userlocation']= location\n",
    "        else:\n",
    "            review['userlocation']='no_location'\n",
    "    \n",
    "    \n",
    "        print(f'page: {p}')\n",
    "        #print(review)\n",
    "        print('--------------------')\n",
    "        \n",
    "        ids.append(id)\n",
    "        \n",
    "        collection.insert_one(review)\n",
    "    \n",
    "        review = {}\n",
    "        title = ''\n",
    "        date = ''\n",
    "        name = ''\n",
    "        rating = ''\n",
    "        text = ''\n",
    "        location = ''\n",
    "    \n",
    "    browser.click_link_by_text('Next') \n",
    "    time.sleep(5)"
   ]
  },
  {
   "cell_type": "markdown",
   "metadata": {},
   "source": [
    "**Yelp**"
   ]
  },
  {
   "cell_type": "code",
   "execution_count": 6,
   "metadata": {},
   "outputs": [],
   "source": [
    "browser = webdriver.Chrome('/usr/local/bin/chromedriver')\n",
    "# browser.implicitly_wait(10)"
   ]
  },
  {
   "cell_type": "code",
   "execution_count": 7,
   "metadata": {},
   "outputs": [],
   "source": [
    "browser.get('https://www.yelp.com/biz/blue-duck-tavern-washington')"
   ]
  },
  {
   "cell_type": "code",
   "execution_count": 8,
   "metadata": {},
   "outputs": [
    {
     "data": {
      "text/plain": [
       "104"
      ]
     },
     "execution_count": 8,
     "metadata": {},
     "output_type": "execute_result"
    }
   ],
   "source": [
    "number_of_pages = int(browser.find_element_by_class_name('page-of-pages').text.split()[-1])\n",
    "number_of_pages"
   ]
  },
  {
   "cell_type": "code",
   "execution_count": 1,
   "metadata": {},
   "outputs": [],
   "source": [
    "def getYelp(address):\n",
    "    \n",
    "    browser = webdriver.Chrome('/usr/local/bin/chromedriver')\n",
    "    browser.implicitly_wait(10)\n",
    "    browser.get(address)\n",
    "    \n",
    "    number_of_pages = int(browser.find_element_by_class_name('page-of-pages').text.split()[-1])\n",
    "    \n",
    "    ids = []\n",
    "\n",
    "    for page in range(1, number_of_pages):\n",
    "\n",
    "        print(page)\n",
    "\n",
    "        html = browser.page_source\n",
    "        soup = BeautifulSoup(html, 'html.parser')\n",
    "        reviews = soup.find_all('div', class_='review--with-sidebar')\n",
    "        reviews = reviews[1:]\n",
    "\n",
    "        for review in reviews:\n",
    "\n",
    "            id = review['data-review-id']\n",
    "            if id in ids:\n",
    "                    break\n",
    "\n",
    "            date = pd.to_datetime(review.find('span', class_='rating-qualifier').text.split()[0])\n",
    "            rating = (int(review.find('div', class_='rating-large')['title'].split()[0][0]))\n",
    "            text = review.find('div', class_='review-content').find('p').text\n",
    "            username = review.find('a', class_='user-display-name').text\n",
    "\n",
    "            try:\n",
    "                loc = review.find('li', class_='user-location')\n",
    "                if loc.text:\n",
    "                    city = loc.text.split(',')[0][1:]\n",
    "                    state = loc.text.split(',')[1][1:-1]\n",
    "            except AttributeError:\n",
    "                print('no location')\n",
    "\n",
    "            ids.append(id)\n",
    "\n",
    "            review = {\n",
    "                    'id': id,\n",
    "                    'date': date,\n",
    "                    'rating': rating,\n",
    "                    'text': text,\n",
    "                    'username': username,\n",
    "                    'city': city,\n",
    "                    'state': state\n",
    "                }\n",
    "\n",
    "\n",
    "            yelp.insert_one(review)\n",
    "\n",
    "            review = {}\n",
    "            title = ''\n",
    "            date = ''\n",
    "            name = ''\n",
    "            rating = ''\n",
    "            text = ''\n",
    "            location = ''\n",
    "\n",
    "        browser.find_element_by_class_name('next').click()\n",
    "        time.sleep(2)\n",
    "    \n",
    "    browser.quit()\n",
    "    \n",
    "    "
   ]
  },
  {
   "cell_type": "code",
   "execution_count": 6,
   "metadata": {},
   "outputs": [
    {
     "name": "stdout",
     "output_type": "stream",
     "text": [
      "1\n",
      "2\n",
      "3\n",
      "4\n",
      "5\n",
      "6\n",
      "7\n",
      "8\n",
      "9\n",
      "10\n",
      "11\n",
      "12\n",
      "13\n",
      "14\n",
      "15\n",
      "16\n",
      "17\n",
      "18\n",
      "19\n",
      "20\n",
      "21\n",
      "22\n",
      "23\n",
      "24\n",
      "25\n",
      "26\n",
      "27\n",
      "28\n",
      "29\n",
      "30\n",
      "31\n",
      "32\n",
      "33\n",
      "34\n",
      "35\n",
      "36\n",
      "37\n",
      "38\n",
      "39\n",
      "40\n",
      "41\n",
      "42\n",
      "43\n",
      "44\n",
      "45\n",
      "46\n",
      "47\n",
      "48\n",
      "49\n",
      "50\n",
      "51\n",
      "52\n",
      "53\n",
      "54\n",
      "55\n",
      "56\n",
      "57\n",
      "58\n",
      "59\n",
      "60\n",
      "61\n",
      "62\n",
      "63\n",
      "64\n",
      "65\n",
      "66\n",
      "67\n",
      "68\n",
      "69\n",
      "70\n",
      "71\n",
      "72\n",
      "73\n",
      "74\n",
      "75\n",
      "76\n",
      "77\n",
      "78\n",
      "79\n",
      "80\n",
      "81\n",
      "82\n",
      "83\n",
      "84\n",
      "85\n",
      "86\n",
      "87\n",
      "88\n",
      "89\n",
      "90\n",
      "91\n",
      "92\n",
      "93\n",
      "94\n",
      "95\n",
      "96\n",
      "97\n",
      "98\n",
      "99\n",
      "100\n",
      "101\n",
      "102\n",
      "103\n"
     ]
    }
   ],
   "source": [
    "getYelp('https://www.yelp.com/biz/blue-duck-tavern-washington')"
   ]
  },
  {
   "cell_type": "code",
   "execution_count": null,
   "metadata": {},
   "outputs": [],
   "source": []
  },
  {
   "cell_type": "code",
   "execution_count": null,
   "metadata": {},
   "outputs": [],
   "source": []
  },
  {
   "cell_type": "code",
   "execution_count": null,
   "metadata": {},
   "outputs": [],
   "source": []
  },
  {
   "cell_type": "code",
   "execution_count": 53,
   "metadata": {},
   "outputs": [],
   "source": []
  },
  {
   "cell_type": "markdown",
   "metadata": {},
   "source": [
    "**Extracting, saving, plotting**"
   ]
  },
  {
   "cell_type": "code",
   "execution_count": 13,
   "metadata": {},
   "outputs": [
    {
     "data": {
      "text/html": [
       "<div>\n",
       "<style scoped>\n",
       "    .dataframe tbody tr th:only-of-type {\n",
       "        vertical-align: middle;\n",
       "    }\n",
       "\n",
       "    .dataframe tbody tr th {\n",
       "        vertical-align: top;\n",
       "    }\n",
       "\n",
       "    .dataframe thead th {\n",
       "        text-align: right;\n",
       "    }\n",
       "</style>\n",
       "<table border=\"1\" class=\"dataframe\">\n",
       "  <thead>\n",
       "    <tr style=\"text-align: right;\">\n",
       "      <th></th>\n",
       "      <th>_id</th>\n",
       "      <th>city</th>\n",
       "      <th>date</th>\n",
       "      <th>id</th>\n",
       "      <th>rating</th>\n",
       "      <th>state</th>\n",
       "      <th>text</th>\n",
       "      <th>username</th>\n",
       "    </tr>\n",
       "  </thead>\n",
       "  <tbody>\n",
       "    <tr>\n",
       "      <th>0</th>\n",
       "      <td>5b747dd74231c707b3dcf503</td>\n",
       "      <td>Potomac</td>\n",
       "      <td>2018-08-13</td>\n",
       "      <td>Seel-sjamYb5abykdfKeEg</td>\n",
       "      <td>5</td>\n",
       "      <td>MD</td>\n",
       "      <td>Blue Duck Tavern was such an incredible dining...</td>\n",
       "      <td>Tessa A.</td>\n",
       "    </tr>\n",
       "    <tr>\n",
       "      <th>1</th>\n",
       "      <td>5b747dd74231c707b3dcf504</td>\n",
       "      <td>Alexandria</td>\n",
       "      <td>2018-08-12</td>\n",
       "      <td>NVIECLsei3XESiliyghhSA</td>\n",
       "      <td>5</td>\n",
       "      <td>VA</td>\n",
       "      <td>With a Michelin Star, it's no surprise that Bl...</td>\n",
       "      <td>Michelle P.</td>\n",
       "    </tr>\n",
       "    <tr>\n",
       "      <th>2</th>\n",
       "      <td>5b747dd74231c707b3dcf505</td>\n",
       "      <td>Washington</td>\n",
       "      <td>2018-08-12</td>\n",
       "      <td>xQQ7Qyozdpmm_uBJytWeFQ</td>\n",
       "      <td>5</td>\n",
       "      <td>DC</td>\n",
       "      <td>Five stars for an excellent brunch with fantas...</td>\n",
       "      <td>Heather P.</td>\n",
       "    </tr>\n",
       "    <tr>\n",
       "      <th>3</th>\n",
       "      <td>5b747dd74231c707b3dcf506</td>\n",
       "      <td>New York</td>\n",
       "      <td>2018-06-22</td>\n",
       "      <td>7Zd8QrDDi4fkFqwanHfppQ</td>\n",
       "      <td>3</td>\n",
       "      <td>NY</td>\n",
       "      <td>We came for Father's day brunch. The restauran...</td>\n",
       "      <td>Lu H.</td>\n",
       "    </tr>\n",
       "    <tr>\n",
       "      <th>4</th>\n",
       "      <td>5b747dd74231c707b3dcf507</td>\n",
       "      <td>Arlington</td>\n",
       "      <td>2018-07-04</td>\n",
       "      <td>L3SdS-vlVM6V-w01csE6bg</td>\n",
       "      <td>4</td>\n",
       "      <td>VA</td>\n",
       "      <td>A very long overdue review -My boyfriend and I...</td>\n",
       "      <td>Vicky L.</td>\n",
       "    </tr>\n",
       "  </tbody>\n",
       "</table>\n",
       "</div>"
      ],
      "text/plain": [
       "                        _id        city       date                      id  \\\n",
       "0  5b747dd74231c707b3dcf503     Potomac 2018-08-13  Seel-sjamYb5abykdfKeEg   \n",
       "1  5b747dd74231c707b3dcf504  Alexandria 2018-08-12  NVIECLsei3XESiliyghhSA   \n",
       "2  5b747dd74231c707b3dcf505  Washington 2018-08-12  xQQ7Qyozdpmm_uBJytWeFQ   \n",
       "3  5b747dd74231c707b3dcf506    New York 2018-06-22  7Zd8QrDDi4fkFqwanHfppQ   \n",
       "4  5b747dd74231c707b3dcf507   Arlington 2018-07-04  L3SdS-vlVM6V-w01csE6bg   \n",
       "\n",
       "   rating state                                               text  \\\n",
       "0       5    MD  Blue Duck Tavern was such an incredible dining...   \n",
       "1       5    VA  With a Michelin Star, it's no surprise that Bl...   \n",
       "2       5    DC  Five stars for an excellent brunch with fantas...   \n",
       "3       3    NY  We came for Father's day brunch. The restauran...   \n",
       "4       4    VA  A very long overdue review -My boyfriend and I...   \n",
       "\n",
       "      username  \n",
       "0     Tessa A.  \n",
       "1  Michelle P.  \n",
       "2   Heather P.  \n",
       "3        Lu H.  \n",
       "4     Vicky L.  "
      ]
     },
     "execution_count": 13,
     "metadata": {},
     "output_type": "execute_result"
    }
   ],
   "source": [
    "data = db.reviews.find()\n",
    "df = pd.DataFrame(list(yelp.find()))\n",
    "# df['date'] = pd.to_datetime(df['date'])\n",
    "df.head()"
   ]
  },
  {
   "cell_type": "code",
   "execution_count": 13,
   "metadata": {},
   "outputs": [],
   "source": [
    "df = df.drop('_id', 1)"
   ]
  },
  {
   "cell_type": "code",
   "execution_count": 14,
   "metadata": {},
   "outputs": [],
   "source": [
    "df.to_csv('yelp.csv')"
   ]
  },
  {
   "cell_type": "code",
   "execution_count": 194,
   "metadata": {},
   "outputs": [],
   "source": [
    "# pd.to_datetime(revs[5].find('span', class_='ratingDate relativeDate')['title'])"
   ]
  },
  {
   "cell_type": "code",
   "execution_count": 15,
   "metadata": {},
   "outputs": [
    {
     "data": {
      "text/plain": [
       "city                object\n",
       "date        datetime64[ns]\n",
       "id                  object\n",
       "rating               int64\n",
       "state               object\n",
       "text                object\n",
       "username            object\n",
       "dtype: object"
      ]
     },
     "execution_count": 15,
     "metadata": {},
     "output_type": "execute_result"
    }
   ],
   "source": [
    "df.dtypes"
   ]
  },
  {
   "cell_type": "code",
   "execution_count": 75,
   "metadata": {},
   "outputs": [],
   "source": [
    "# df['rating'] = pd.to_numeric(df['rating'])"
   ]
  },
  {
   "cell_type": "code",
   "execution_count": 188,
   "metadata": {},
   "outputs": [
    {
     "data": {
      "text/plain": [
       "<matplotlib.axes._subplots.AxesSubplot at 0x116e20908>"
      ]
     },
     "execution_count": 188,
     "metadata": {},
     "output_type": "execute_result"
    },
    {
     "data": {
      "image/png": "[encoded data removed]",
      "text/plain": [
       "<Figure size 720x504 with 1 Axes>"
      ]
     },
     "metadata": {},
     "output_type": "display_data"
    }
   ],
   "source": [
    "df.plot(x='date', y='rating', figsize=(10,7))"
   ]
  },
  {
   "cell_type": "code",
   "execution_count": 189,
   "metadata": {},
   "outputs": [
    {
     "data": {
      "text/plain": [
       "<pandas.core.groupby.groupby.DataFrameGroupBy object at 0x117414f28>"
      ]
     },
     "execution_count": 189,
     "metadata": {},
     "output_type": "execute_result"
    }
   ],
   "source": [
    "df.groupby(['rating', 'date'])"
   ]
  },
  {
   "cell_type": "code",
   "execution_count": 16,
   "metadata": {},
   "outputs": [],
   "source": [
    "df1 = df.groupby(pd.Grouper(key='date', freq='1M')).mean()"
   ]
  },
  {
   "cell_type": "code",
   "execution_count": 18,
   "metadata": {},
   "outputs": [
    {
     "data": {
      "text/plain": [
       "<matplotlib.axes._subplots.AxesSubplot at 0x115145080>"
      ]
     },
     "execution_count": 18,
     "metadata": {},
     "output_type": "execute_result"
    },
    {
     "data": {
      "image/png": "[encoded data removed]",
      "text/plain": [
       "<Figure size 1080x360 with 1 Axes>"
      ]
     },
     "metadata": {},
     "output_type": "display_data"
    }
   ],
   "source": [
    "df1.plot(grid=True, figsize=(15,5))"
   ]
  },
  {
   "cell_type": "code",
   "execution_count": null,
   "metadata": {},
   "outputs": [],
   "source": []
  }
 ],
 "metadata": {
  "kernelspec": {
   "display_name": "Python 3",
   "language": "python",
   "name": "python3"
  },
  "language_info": {
   "codemirror_mode": {
    "name": "ipython",
    "version": 3
   },
   "file_extension": ".py",
   "mimetype": "text/x-python",
   "name": "python",
   "nbconvert_exporter": "python",
   "pygments_lexer": "ipython3",
   "version": "3.6.5"
  }
 },
 "nbformat": 4,
 "nbformat_minor": 2
}
