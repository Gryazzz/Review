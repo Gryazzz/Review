{
 "cells": [
  {
   "cell_type": "code",
   "execution_count": 1,
   "metadata": {},
   "outputs": [],
   "source": [
    "from bs4 import BeautifulSoup\n",
    "import requests\n",
    "import pymongo\n",
    "import requests\n",
    "import os"
   ]
  },
  {
   "cell_type": "code",
   "execution_count": 56,
   "metadata": {},
   "outputs": [],
   "source": [
    "conn = 'mongodb://localhost:27017'\n",
    "client = pymongo.MongoClient(conn)"
   ]
  },
  {
   "cell_type": "code",
   "execution_count": 60,
   "metadata": {},
   "outputs": [],
   "source": [
    "db = client.tripadvisor\n",
    "collection = db.reviews"
   ]
  },
  {
   "cell_type": "code",
   "execution_count": 2,
   "metadata": {},
   "outputs": [],
   "source": [
    "url = 'https://www.tripadvisor.com/Restaurant_Review-g28970-d622172-Reviews-Blue_Duck_Tavern-Washington_DC_District_of_Columbia.html'"
   ]
  },
  {
   "cell_type": "code",
   "execution_count": 3,
   "metadata": {},
   "outputs": [],
   "source": [
    "session = requests.Session()\n",
    "session.headers.update({'User-Agent': 'Custom user agent'})\n",
    "html = session.get(url)"
   ]
  },
  {
   "cell_type": "code",
   "execution_count": 4,
   "metadata": {},
   "outputs": [],
   "source": [
    "soup = BeautifulSoup(html.text, 'html.parser')"
   ]
  },
  {
   "cell_type": "code",
   "execution_count": 12,
   "metadata": {},
   "outputs": [],
   "source": [
    "revs = soup.find_all('div', class_='review-container')"
   ]
  },
  {
   "cell_type": "code",
   "execution_count": 75,
   "metadata": {},
   "outputs": [
    {
     "name": "stdout",
     "output_type": "stream",
     "text": [
      "{'id': '579961251', 'date': 'May 13, 2018', 'title': \"Fantastic Mother's Day Experience\", 'rating': '5', 'text': \"We ate here for Mother's day and received Michelin star customer service. Adrienne was very welcoming and had great attention to detail. The food was absolutely amazing, especially the bone marrow dish. Theresa Mascariñas\", 'username': 'ewattsie', 'userlocation': 'London, United Kingdom'}\n",
      "--------------------\n",
      "{'id': '579287644', 'date': 'May 10, 2018', 'title': 'Great Meal, Worthy of a Michelin Star', 'rating': '5', 'text': 'We returned for dinner at the Blue Duck Tavern and were far more impressed than on previous occasions. The foie gros creme brulee was a unique and delicious appetizer. The rack of lamb (enough for two persons) was exceptional, although quite expensive, and the whole...More', 'username': 'cluelessSingapore', 'userlocation': 'Fairfax, Virginia'}\n",
      "--------------------\n",
      "no location\n",
      "{'id': '578678261', 'date': 'May 7, 2018', 'title': 'Not to impressed', 'rating': '3', 'text': \"I wasn't impressed by the menu. I actually went to the restaurant since I was staying at the hotel and was disappointed by the variety of available entrees. I actually wen elsewhere for dinner after reviewing the menu.\", 'username': 'Janet R', 'userlocation': 'no_location'}\n",
      "--------------------\n",
      "no location\n",
      "{'id': '578152248', 'date': 'May 5, 2018', 'title': 'Outstanding service, meal and experience ', 'rating': '5', 'text': 'We reserved the Chefs Table for a partnership dinner last week. The group was full of wine lovers, foodies and business travelers that could probably tally hundreds of restaurant experiences every year in many cities.\\nGiven that - the table consensus was that this was...More', 'username': 'Ron S', 'userlocation': 'no_location'}\n",
      "--------------------\n",
      "no location\n",
      "{'id': '577970865', 'date': 'May 4, 2018', 'title': 'Small portions but good food', 'rating': '4', 'text': 'We tried the bone marrow (excellent), organic chicken was very tasty but a small portion and the steak (4 slices for $40) was great but again very small portions. If you don’t mind spending the money it’s probably a good first date night place.', 'username': 'JohnfmBrooklyn', 'userlocation': 'no_location'}\n",
      "--------------------\n",
      "{'id': '577510144', 'date': 'May 2, 2018', 'title': 'Game On! ', 'rating': '5', 'text': 'I was truly impressed with this restaurant. The service, the food, the ambiance. It is worth the spend, a little pricey if you are on a budget. An open kitchen you can see the action going on! Nice wine selection. My favorite architectural detail are...More', 'username': 'mdgammon', 'userlocation': 'Memphis, Tennessee'}\n",
      "--------------------\n",
      "no location\n",
      "{'id': '577337099', 'date': 'May 2, 2018', 'title': 'OK', 'rating': '3', 'text': 'We had an OK experience. The food was decent but it is strange that you have to order your side vegetable separately and the main entrees are just protein. Meat-heavy. At this price range, the food was kind of disappointing. The side dish of cauliflower...More', 'username': 'emizco', 'userlocation': 'no_location'}\n",
      "--------------------\n",
      "{'id': '577175262', 'date': 'May 1, 2018', 'title': 'What am I missing?', 'rating': '3', 'text': \"We stayed at the Park Hyatt during out weekend in DC so we planned to eat here on Friday night b/c we'd heard so much about this restaurant. Nothing seemed appealing on the menu so we ordered off of the bar menu. I got the...More\", 'username': 'travelingirlfrompa', 'userlocation': 'Pittsburgh, Pennsylvania'}\n",
      "--------------------\n",
      "{'id': '576913338', 'date': 'April 30, 2018', 'title': '50th Birthday Dinner - Outstanding!', 'rating': '5', 'text': \"We had dinner for sixteen for my wife's 50th birthday. The restaurant has a room somewhat separate from the main dining area called the chef's table. It was comfortable for 16, and it was nice being separate because people were standing and talking before dinner....More\", 'username': 'leadbelly2550', 'userlocation': 'Bethesda, Maryland'}\n",
      "--------------------\n",
      "no location\n",
      "{'id': '576846721', 'date': 'April 30, 2018', 'title': 'Foodie Delights', 'rating': '5', 'text': 'Best crab cakes on the planet and that was just a start. Every bite of every dish was truly special. If you can eat here it will change your expectations of food.', 'username': 'Desertman2013', 'userlocation': 'no_location'}\n",
      "--------------------\n"
     ]
    }
   ],
   "source": [
    "\n",
    "\n",
    "for r in revs:\n",
    "    id = r.find('div', class_='reviewSelector')['data-reviewid']\n",
    "    title = r.find('span', class_='noQuotes').text\n",
    "    date = r.find('span', class_='ratingDate relativeDate')['title']\n",
    "    name = r.find('div', class_='username mo').text\n",
    "    rating = r.find('div', class_='rating reviewItemInline').find('span')['class'][1][7:8]\n",
    "    text = r.find('div', class_='entry').text\n",
    "    try:\n",
    "        loc = r.find('span', class_='expand_inline userLocation')\n",
    "        if loc.text:\n",
    "            location = loc.text\n",
    "    except AttributeError:\n",
    "        print('no location')\n",
    "    \n",
    "    review = {\n",
    "        'id': id,\n",
    "        'date': date,\n",
    "        'title': title,\n",
    "        'rating': rating,\n",
    "        'text': text,\n",
    "        'username': name\n",
    "    }\n",
    "    \n",
    "    if (location):\n",
    "        review['userlocation']= location\n",
    "    else:\n",
    "        review['userlocation']='no_location'\n",
    "    \n",
    "    \n",
    "    \n",
    "    print(review)\n",
    "    print('--------------------')\n",
    "    \n",
    "    review = {\n",
    "        'id': id,\n",
    "        'date': date,\n",
    "        'title': title,\n",
    "        'rating': rating,\n",
    "        'text': text,\n",
    "        'username': name,\n",
    "        'userlocation': location\n",
    "    }\n",
    "    \n",
    "    collection.insert_one(review)\n",
    "    \n",
    "    review = {}\n",
    "    title = ''\n",
    "    date = ''\n",
    "    name = ''\n",
    "    rating = ''\n",
    "    text = ''\n",
    "    location = ''"
   ]
  },
  {
   "cell_type": "code",
   "execution_count": 47,
   "metadata": {},
   "outputs": [
    {
     "data": {
      "text/plain": [
       "'579287644'"
      ]
     },
     "execution_count": 47,
     "metadata": {},
     "output_type": "execute_result"
    }
   ],
   "source": []
  },
  {
   "cell_type": "code",
   "execution_count": null,
   "metadata": {},
   "outputs": [],
   "source": []
  }
 ],
 "metadata": {
  "kernelspec": {
   "display_name": "Python 3",
   "language": "python",
   "name": "python3"
  },
  "language_info": {
   "codemirror_mode": {
    "name": "ipython",
    "version": 3
   },
   "file_extension": ".py",
   "mimetype": "text/x-python",
   "name": "python",
   "nbconvert_exporter": "python",
   "pygments_lexer": "ipython3",
   "version": "3.6.4"
  }
 },
 "nbformat": 4,
 "nbformat_minor": 2
}
